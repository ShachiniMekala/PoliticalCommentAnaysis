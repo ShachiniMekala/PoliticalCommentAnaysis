{
  "nbformat": 4,
  "nbformat_minor": 0,
  "metadata": {
    "colab": {
      "name": "Comments_Analysis.ipynb",
      "provenance": [],
      "collapsed_sections": [],
      "toc_visible": true,
      "authorship_tag": "ABX9TyNYSdB9+j1eY0jre8Kv3lzd",
      "include_colab_link": true
    },
    "kernelspec": {
      "name": "python3",
      "display_name": "Python 3"
    },
    "language_info": {
      "name": "python"
    }
  },
  "cells": [
    {
      "cell_type": "markdown",
      "metadata": {
        "id": "view-in-github",
        "colab_type": "text"
      },
      "source": [
        "<a href=\"https://colab.research.google.com/github/ShachiniMekala/PoliticalCommentAnaysis/blob/main/Comments_Analysis.ipynb\" target=\"_parent\"><img src=\"https://colab.research.google.com/assets/colab-badge.svg\" alt=\"Open In Colab\"/></a>"
      ]
    },
    {
      "cell_type": "markdown",
      "metadata": {
        "id": "2g7tZNefeX99"
      },
      "source": [
        "# Background Work"
      ]
    },
    {
      "cell_type": "code",
      "metadata": {
        "id": "W2SzAl13dK-R"
      },
      "source": [
        "import os\n",
        "import string\n",
        "import nltk\n",
        "nltk.download('punkt')\n",
        "from nltk import FreqDist\n",
        "import pandas as pd"
      ],
      "execution_count": null,
      "outputs": []
    },
    {
      "cell_type": "code",
      "metadata": {
        "id": "1W9-5ZoadOXI"
      },
      "source": [
        "#read corpus into dataframe\n",
        "df_comments = pd.read_csv(\"./Comments.csv\") "
      ],
      "execution_count": 19,
      "outputs": []
    },
    {
      "cell_type": "code",
      "metadata": {
        "id": "QlCq-tmWdn78"
      },
      "source": [
        "#select only positive comments\n",
        "df_positive = df_comments[df_comments[\"Annotation\"] == \"positive\"]\n",
        "df_positive_comments = df_positive['Comment']\n",
        "\n",
        "#select only negative comments\n",
        "df_negative = df_comments[df_comments[\"Annotation\"] == \"negative\"]\n",
        "df_negative_comments = df_negative['Comment']"
      ],
      "execution_count": 20,
      "outputs": []
    },
    {
      "cell_type": "markdown",
      "metadata": {
        "id": "9jCERBToegJv"
      },
      "source": [
        "# Data Preprocessing"
      ]
    },
    {
      "cell_type": "code",
      "metadata": {
        "id": "3E0TLz6oemi4"
      },
      "source": [
        "def preprocessing(input_str):\n",
        "  output_str=''\n",
        "  punc = \"'\"+\"!\"+\"(\"+\")\"+\"-\"+\"[\"+\"]\"+\"{\"+\"}\"+\";\"+\":\"+\"\\\"\"+\",\"+\"<\"+\"+\"+\">\"+\".\"+\"/\"+\"?\"+\"@\"+\"#\"+\"$\"+\"%\"+\"^\"+\"&\"+\"*\"+\"_\"+\"~\"+\"\\\\\"\n",
        "\n",
        "  #remove punctuations in comment\n",
        "  for char in input_str:\n",
        "    if char not in punc:\n",
        "        output_str = output_str + char\n",
        "\n",
        "  output_str = output_str.strip()\n",
        "\n",
        "  #annotate the begining and the end of the sentence\n",
        "  output_str = \"<\" + output_str + \">\"\n",
        "\n",
        "  #convert the string into lower case and tokenize\n",
        "  word_tokens = nltk.word_tokenize(output_str.lower())\n",
        "  \n",
        "  return word_tokens"
      ],
      "execution_count": 21,
      "outputs": []
    },
    {
      "cell_type": "markdown",
      "metadata": {
        "id": "PSh0HnsGL6F9"
      },
      "source": [
        "# Corpus"
      ]
    },
    {
      "cell_type": "code",
      "metadata": {
        "id": "u25bMsb4vxqc"
      },
      "source": [
        "unigram_list_p=[]\n",
        "bigram_list_p=[]\n",
        "unigram_list_n=[]\n",
        "bigram_list_n=[]\n",
        "\n",
        "#preprocess positive comments\n",
        "for comment in df_positive_comments:\n",
        " positive_tokens = preprocessing(comment)\n",
        " #list the unigrams in the positive corpus\n",
        " unigram_list_p = unigram_list_p + list(positive_tokens)\n",
        " #list the bigrams in the positive corpus\n",
        " bigrams_p = nltk.bigrams(positive_tokens)\n",
        " bigram_list_p = bigram_list_p + list(bigrams_p)\n",
        "\n",
        "#preprocess negative comments\n",
        "for comment in df_negative_comments:\n",
        " negative_tokens = preprocessing(comment)\n",
        " #list the unigrams in the negative corpus\n",
        " unigram_list_n = unigram_list_n + list(negative_tokens)\n",
        " #list the bigrams in the negative corpus\n",
        " bigrams_n = nltk.bigrams(negative_tokens)\n",
        " bigram_list_n = bigram_list_n + list(bigrams_n)"
      ],
      "execution_count": 22,
      "outputs": []
    },
    {
      "cell_type": "code",
      "metadata": {
        "id": "F8MVL9AFJKs6"
      },
      "source": [
        "#unique word count in positive corpus\n",
        "unique_count_p = len(set(unigram_list_p))\n",
        "\n",
        "#unique word count in positive corpus\n",
        "unique_count_n = len(set(unigram_list_n))"
      ],
      "execution_count": 23,
      "outputs": []
    },
    {
      "cell_type": "code",
      "metadata": {
        "id": "faiCyndvFExo"
      },
      "source": [
        "#frequency distribution for positive unigrams and bigrams\n",
        "unigram_freq_p = FreqDist(unigram_list_p)\n",
        "bigram_freq_p = FreqDist(bigram_list_p)\n",
        "\n",
        "#frequency distribution for negative unigrams and bigrams\n",
        "unigram_freq_n = FreqDist(unigram_list_n)\n",
        "bigram_freq_n = FreqDist(bigram_list_n)"
      ],
      "execution_count": 24,
      "outputs": []
    },
    {
      "cell_type": "markdown",
      "metadata": {
        "id": "RG1L0nv5MHFg"
      },
      "source": [
        "# Input Comment"
      ]
    },
    {
      "cell_type": "code",
      "metadata": {
        "colab": {
          "base_uri": "https://localhost:8080/"
        },
        "id": "JEwmYlWD0P5j",
        "outputId": "424deb13-b09f-41de-cab9-d5a8aafccb93"
      },
      "source": [
        "#preprocess input comment\n",
        "input_comment = input()\n",
        "\n",
        "#preprocess the input comment\n",
        "input_tokens=preprocessing(input_comment)\n",
        "input_bigrams = list(nltk.bigrams(input_tokens))\n",
        "\n",
        "#word count in input comment\n",
        "word_count_input = len(input_tokens)"
      ],
      "execution_count": 25,
      "outputs": [
        {
          "output_type": "stream",
          "text": [
            "jaya wewa\n"
          ],
          "name": "stdout"
        }
      ]
    },
    {
      "cell_type": "markdown",
      "metadata": {
        "id": "-emtl1D3MMnU"
      },
      "source": [
        "# Calculate Probability"
      ]
    },
    {
      "cell_type": "code",
      "metadata": {
        "colab": {
          "base_uri": "https://localhost:8080/"
        },
        "id": "DKXLQSOM1K0F",
        "outputId": "e9f9ede6-8da6-4367-d526-766a420fd874"
      },
      "source": [
        "# calculate the probability of being positive\n",
        "\n",
        "probability_p = 1.0\n",
        "\n",
        "for bigram in range(len(input_bigrams)):\n",
        "\n",
        "  if input_bigrams[bigram] in bigram_freq_p:\n",
        "    count_bigram = bigram_freq_p[input_bigrams[bigram]]\n",
        "  else:\n",
        "    count_bigram = 0 \n",
        " \n",
        "  if input_bigrams[bigram][0] in unigram_freq_p:\n",
        "    count_unigram = unigram_freq_p[input_bigrams[bigram][0]]\n",
        "  else:\n",
        "    count_unigram = 0\n",
        "\n",
        "#laplace smoothing\n",
        "  prob_after_smoothing = (count_bigram + 1) / (count_unigram + unique_count_p)\n",
        "\n",
        " #probability of being positive\n",
        "  probability_p = probability_p * (prob_after_smoothing)\n",
        "\n",
        "print('Probability of being POSITIVE : '+str(probability_p))\n"
      ],
      "execution_count": 27,
      "outputs": [
        {
          "output_type": "stream",
          "text": [
            "Probability of being POSITIVE : 1.1801382148373763e-07\n"
          ],
          "name": "stdout"
        }
      ]
    },
    {
      "cell_type": "code",
      "metadata": {
        "id": "lj3i2twIMhoO",
        "colab": {
          "base_uri": "https://localhost:8080/"
        },
        "outputId": "81113edb-97c1-410c-9bbe-14a90a7d9916"
      },
      "source": [
        "# calculate the probability of being negative\n",
        "\n",
        "probability_n = 1.0\n",
        "\n",
        "for bigram in range(len(input_bigrams)):\n",
        "\n",
        "  if input_bigrams[bigram] in bigram_freq_n:\n",
        "    prob_bigram = bigram_freq_n[input_bigrams[bigram]]\n",
        "  else:\n",
        "    prob_bigram = 0 \n",
        " \n",
        "  if input_bigrams[bigram][0] in unigram_freq_n:\n",
        "    prob_unigram = unigram_freq_n[input_bigrams[bigram][0]]\n",
        "  else:\n",
        "    prob_unigram = 0\n",
        "\n",
        " #laplace smoothing\n",
        "  prob_after_smoothing = (prob_bigram + 1) / (prob_unigram + unique_count_n)\n",
        "\n",
        " #probability of being positive\n",
        "  probability_n = probability_n * (prob_after_smoothing)\n",
        "\n",
        "print('Probability of being NEGATIVE : '+str(probability_n))"
      ],
      "execution_count": 28,
      "outputs": [
        {
          "output_type": "stream",
          "text": [
            "Probability of being NEGATIVE : 1.5509195983893698e-08\n"
          ],
          "name": "stdout"
        }
      ]
    },
    {
      "cell_type": "markdown",
      "metadata": {
        "id": "cg6T_CkTb43C"
      },
      "source": [
        "# Classification"
      ]
    },
    {
      "cell_type": "code",
      "metadata": {
        "id": "7WJSvdA8bqQJ",
        "colab": {
          "base_uri": "https://localhost:8080/"
        },
        "outputId": "f26b0ba0-0942-4b55-91cb-fe5bfc18c214"
      },
      "source": [
        "if probability_p > probability_n:\n",
        " print(\"Input is a POSITIVE comment\")\n",
        " perplexity=pow(probability_p, (-1 / word_count_input))\n",
        " print(\"Perplexity : \"+str(perplexity))\n",
        "\n",
        "else:\n",
        " if probability_p < probability_n:\n",
        "  print(\"Input is a NEGATIVE comment\")\n",
        "  perplexity=pow(probability_n, (-1 / word_count_input))\n",
        "  print(\"Perplexity : \"+str(perplexity))\n",
        " else:\n",
        "  print(\"Input comment is NEUTRAL\")"
      ],
      "execution_count": 29,
      "outputs": [
        {
          "output_type": "stream",
          "text": [
            "Input is a POSITIVE comment\n",
            "Perplexity : 53.953147012888586\n"
          ],
          "name": "stdout"
        }
      ]
    }
  ]
}