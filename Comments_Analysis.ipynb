{
  "nbformat": 4,
  "nbformat_minor": 0,
  "metadata": {
    "colab": {
      "name": "Comments_Analysis.ipynb",
      "provenance": [],
      "collapsed_sections": [],
      "toc_visible": true,
      "authorship_tag": "ABX9TyPgTk36gLEfQ8hVe37+2Dkt",
      "include_colab_link": true
    },
    "kernelspec": {
      "name": "python3",
      "display_name": "Python 3"
    },
    "language_info": {
      "name": "python"
    }
  },
  "cells": [
    {
      "cell_type": "markdown",
      "metadata": {
        "id": "view-in-github",
        "colab_type": "text"
      },
      "source": [
        "<a href=\"https://colab.research.google.com/github/ShachiniMekala/PoliticalCommentAnaysis/blob/main/Comments_Analysis.ipynb\" target=\"_parent\"><img src=\"https://colab.research.google.com/assets/colab-badge.svg\" alt=\"Open In Colab\"/></a>"
      ]
    },
    {
      "cell_type": "markdown",
      "metadata": {
        "id": "2g7tZNefeX99"
      },
      "source": [
        "# Background Work"
      ]
    },
    {
      "cell_type": "code",
      "metadata": {
        "id": "SkQrzBgsb_sM",
        "colab": {
          "base_uri": "https://localhost:8080/",
          "height": 522
        },
        "outputId": "8163b5fe-6c40-4ade-d57e-c494dc1b6129"
      },
      "source": [
        "from google.colab import drive\n",
        "drive.mount('/content/gdrive')"
      ],
      "execution_count": 17,
      "outputs": [
        {
          "output_type": "error",
          "ename": "KeyboardInterrupt",
          "evalue": "ignored",
          "traceback": [
            "\u001b[0;31m---------------------------------------------------------------------------\u001b[0m",
            "\u001b[0;31mKeyboardInterrupt\u001b[0m                         Traceback (most recent call last)",
            "\u001b[0;32m/usr/local/lib/python3.7/dist-packages/ipykernel/kernelbase.py\u001b[0m in \u001b[0;36m_input_request\u001b[0;34m(self, prompt, ident, parent, password)\u001b[0m\n\u001b[1;32m    728\u001b[0m             \u001b[0;32mtry\u001b[0m\u001b[0;34m:\u001b[0m\u001b[0;34m\u001b[0m\u001b[0;34m\u001b[0m\u001b[0m\n\u001b[0;32m--> 729\u001b[0;31m                 \u001b[0mident\u001b[0m\u001b[0;34m,\u001b[0m \u001b[0mreply\u001b[0m \u001b[0;34m=\u001b[0m \u001b[0mself\u001b[0m\u001b[0;34m.\u001b[0m\u001b[0msession\u001b[0m\u001b[0;34m.\u001b[0m\u001b[0mrecv\u001b[0m\u001b[0;34m(\u001b[0m\u001b[0mself\u001b[0m\u001b[0;34m.\u001b[0m\u001b[0mstdin_socket\u001b[0m\u001b[0;34m,\u001b[0m \u001b[0;36m0\u001b[0m\u001b[0;34m)\u001b[0m\u001b[0;34m\u001b[0m\u001b[0;34m\u001b[0m\u001b[0m\n\u001b[0m\u001b[1;32m    730\u001b[0m             \u001b[0;32mexcept\u001b[0m \u001b[0mException\u001b[0m\u001b[0;34m:\u001b[0m\u001b[0;34m\u001b[0m\u001b[0;34m\u001b[0m\u001b[0m\n",
            "\u001b[0;32m/usr/local/lib/python3.7/dist-packages/jupyter_client/session.py\u001b[0m in \u001b[0;36mrecv\u001b[0;34m(self, socket, mode, content, copy)\u001b[0m\n\u001b[1;32m    802\u001b[0m         \u001b[0;32mtry\u001b[0m\u001b[0;34m:\u001b[0m\u001b[0;34m\u001b[0m\u001b[0;34m\u001b[0m\u001b[0m\n\u001b[0;32m--> 803\u001b[0;31m             \u001b[0mmsg_list\u001b[0m \u001b[0;34m=\u001b[0m \u001b[0msocket\u001b[0m\u001b[0;34m.\u001b[0m\u001b[0mrecv_multipart\u001b[0m\u001b[0;34m(\u001b[0m\u001b[0mmode\u001b[0m\u001b[0;34m,\u001b[0m \u001b[0mcopy\u001b[0m\u001b[0;34m=\u001b[0m\u001b[0mcopy\u001b[0m\u001b[0;34m)\u001b[0m\u001b[0;34m\u001b[0m\u001b[0;34m\u001b[0m\u001b[0m\n\u001b[0m\u001b[1;32m    804\u001b[0m         \u001b[0;32mexcept\u001b[0m \u001b[0mzmq\u001b[0m\u001b[0;34m.\u001b[0m\u001b[0mZMQError\u001b[0m \u001b[0;32mas\u001b[0m \u001b[0me\u001b[0m\u001b[0;34m:\u001b[0m\u001b[0;34m\u001b[0m\u001b[0;34m\u001b[0m\u001b[0m\n",
            "\u001b[0;32m/usr/local/lib/python3.7/dist-packages/zmq/sugar/socket.py\u001b[0m in \u001b[0;36mrecv_multipart\u001b[0;34m(self, flags, copy, track)\u001b[0m\n\u001b[1;32m    582\u001b[0m         \"\"\"\n\u001b[0;32m--> 583\u001b[0;31m         \u001b[0mparts\u001b[0m \u001b[0;34m=\u001b[0m \u001b[0;34m[\u001b[0m\u001b[0mself\u001b[0m\u001b[0;34m.\u001b[0m\u001b[0mrecv\u001b[0m\u001b[0;34m(\u001b[0m\u001b[0mflags\u001b[0m\u001b[0;34m,\u001b[0m \u001b[0mcopy\u001b[0m\u001b[0;34m=\u001b[0m\u001b[0mcopy\u001b[0m\u001b[0;34m,\u001b[0m \u001b[0mtrack\u001b[0m\u001b[0;34m=\u001b[0m\u001b[0mtrack\u001b[0m\u001b[0;34m)\u001b[0m\u001b[0;34m]\u001b[0m\u001b[0;34m\u001b[0m\u001b[0;34m\u001b[0m\u001b[0m\n\u001b[0m\u001b[1;32m    584\u001b[0m         \u001b[0;31m# have first part already, only loop while more to receive\u001b[0m\u001b[0;34m\u001b[0m\u001b[0;34m\u001b[0m\u001b[0;34m\u001b[0m\u001b[0m\n",
            "\u001b[0;32mzmq/backend/cython/socket.pyx\u001b[0m in \u001b[0;36mzmq.backend.cython.socket.Socket.recv\u001b[0;34m()\u001b[0m\n",
            "\u001b[0;32mzmq/backend/cython/socket.pyx\u001b[0m in \u001b[0;36mzmq.backend.cython.socket.Socket.recv\u001b[0;34m()\u001b[0m\n",
            "\u001b[0;32mzmq/backend/cython/socket.pyx\u001b[0m in \u001b[0;36mzmq.backend.cython.socket._recv_copy\u001b[0;34m()\u001b[0m\n",
            "\u001b[0;32m/usr/local/lib/python3.7/dist-packages/zmq/backend/cython/checkrc.pxd\u001b[0m in \u001b[0;36mzmq.backend.cython.checkrc._check_rc\u001b[0;34m()\u001b[0m\n",
            "\u001b[0;31mKeyboardInterrupt\u001b[0m: ",
            "\nDuring handling of the above exception, another exception occurred:\n",
            "\u001b[0;31mKeyboardInterrupt\u001b[0m                         Traceback (most recent call last)",
            "\u001b[0;32m<ipython-input-17-4996ee3d8d09>\u001b[0m in \u001b[0;36m<module>\u001b[0;34m()\u001b[0m\n\u001b[1;32m      1\u001b[0m \u001b[0;32mfrom\u001b[0m \u001b[0mgoogle\u001b[0m\u001b[0;34m.\u001b[0m\u001b[0mcolab\u001b[0m \u001b[0;32mimport\u001b[0m \u001b[0mdrive\u001b[0m\u001b[0;34m\u001b[0m\u001b[0;34m\u001b[0m\u001b[0m\n\u001b[0;32m----> 2\u001b[0;31m \u001b[0mdrive\u001b[0m\u001b[0;34m.\u001b[0m\u001b[0mmount\u001b[0m\u001b[0;34m(\u001b[0m\u001b[0;34m'/content/gdrive'\u001b[0m\u001b[0;34m)\u001b[0m\u001b[0;34m\u001b[0m\u001b[0;34m\u001b[0m\u001b[0m\n\u001b[0m",
            "\u001b[0;32m/usr/local/lib/python3.7/dist-packages/google/colab/drive.py\u001b[0m in \u001b[0;36mmount\u001b[0;34m(mountpoint, force_remount, timeout_ms, use_metadata_server)\u001b[0m\n\u001b[1;32m    258\u001b[0m       \u001b[0;32mwith\u001b[0m \u001b[0m_output\u001b[0m\u001b[0;34m.\u001b[0m\u001b[0muse_tags\u001b[0m\u001b[0;34m(\u001b[0m\u001b[0;34m'dfs-auth-dance'\u001b[0m\u001b[0;34m)\u001b[0m\u001b[0;34m:\u001b[0m\u001b[0;34m\u001b[0m\u001b[0;34m\u001b[0m\u001b[0m\n\u001b[1;32m    259\u001b[0m         \u001b[0;32mwith\u001b[0m \u001b[0mopen\u001b[0m\u001b[0;34m(\u001b[0m\u001b[0mfifo\u001b[0m\u001b[0;34m,\u001b[0m \u001b[0;34m'w'\u001b[0m\u001b[0;34m)\u001b[0m \u001b[0;32mas\u001b[0m \u001b[0mfifo_file\u001b[0m\u001b[0;34m:\u001b[0m\u001b[0;34m\u001b[0m\u001b[0;34m\u001b[0m\u001b[0m\n\u001b[0;32m--> 260\u001b[0;31m           \u001b[0mfifo_file\u001b[0m\u001b[0;34m.\u001b[0m\u001b[0mwrite\u001b[0m\u001b[0;34m(\u001b[0m\u001b[0mget_code\u001b[0m\u001b[0;34m(\u001b[0m\u001b[0mauth_prompt\u001b[0m\u001b[0;34m)\u001b[0m \u001b[0;34m+\u001b[0m \u001b[0;34m'\\n'\u001b[0m\u001b[0;34m)\u001b[0m\u001b[0;34m\u001b[0m\u001b[0;34m\u001b[0m\u001b[0m\n\u001b[0m\u001b[1;32m    261\u001b[0m       \u001b[0mwrote_to_fifo\u001b[0m \u001b[0;34m=\u001b[0m \u001b[0;32mTrue\u001b[0m\u001b[0;34m\u001b[0m\u001b[0;34m\u001b[0m\u001b[0m\n\u001b[1;32m    262\u001b[0m     \u001b[0;32melif\u001b[0m \u001b[0mcase\u001b[0m \u001b[0;34m==\u001b[0m \u001b[0;36m5\u001b[0m\u001b[0;34m:\u001b[0m\u001b[0;34m\u001b[0m\u001b[0;34m\u001b[0m\u001b[0m\n",
            "\u001b[0;32m/usr/local/lib/python3.7/dist-packages/ipykernel/kernelbase.py\u001b[0m in \u001b[0;36mraw_input\u001b[0;34m(self, prompt)\u001b[0m\n\u001b[1;32m    702\u001b[0m             \u001b[0mself\u001b[0m\u001b[0;34m.\u001b[0m\u001b[0m_parent_ident\u001b[0m\u001b[0;34m,\u001b[0m\u001b[0;34m\u001b[0m\u001b[0;34m\u001b[0m\u001b[0m\n\u001b[1;32m    703\u001b[0m             \u001b[0mself\u001b[0m\u001b[0;34m.\u001b[0m\u001b[0m_parent_header\u001b[0m\u001b[0;34m,\u001b[0m\u001b[0;34m\u001b[0m\u001b[0;34m\u001b[0m\u001b[0m\n\u001b[0;32m--> 704\u001b[0;31m             \u001b[0mpassword\u001b[0m\u001b[0;34m=\u001b[0m\u001b[0;32mFalse\u001b[0m\u001b[0;34m,\u001b[0m\u001b[0;34m\u001b[0m\u001b[0;34m\u001b[0m\u001b[0m\n\u001b[0m\u001b[1;32m    705\u001b[0m         )\n\u001b[1;32m    706\u001b[0m \u001b[0;34m\u001b[0m\u001b[0m\n",
            "\u001b[0;32m/usr/local/lib/python3.7/dist-packages/ipykernel/kernelbase.py\u001b[0m in \u001b[0;36m_input_request\u001b[0;34m(self, prompt, ident, parent, password)\u001b[0m\n\u001b[1;32m    732\u001b[0m             \u001b[0;32mexcept\u001b[0m \u001b[0mKeyboardInterrupt\u001b[0m\u001b[0;34m:\u001b[0m\u001b[0;34m\u001b[0m\u001b[0;34m\u001b[0m\u001b[0m\n\u001b[1;32m    733\u001b[0m                 \u001b[0;31m# re-raise KeyboardInterrupt, to truncate traceback\u001b[0m\u001b[0;34m\u001b[0m\u001b[0;34m\u001b[0m\u001b[0;34m\u001b[0m\u001b[0m\n\u001b[0;32m--> 734\u001b[0;31m                 \u001b[0;32mraise\u001b[0m \u001b[0mKeyboardInterrupt\u001b[0m\u001b[0;34m\u001b[0m\u001b[0;34m\u001b[0m\u001b[0m\n\u001b[0m\u001b[1;32m    735\u001b[0m             \u001b[0;32melse\u001b[0m\u001b[0;34m:\u001b[0m\u001b[0;34m\u001b[0m\u001b[0;34m\u001b[0m\u001b[0m\n\u001b[1;32m    736\u001b[0m                 \u001b[0;32mbreak\u001b[0m\u001b[0;34m\u001b[0m\u001b[0;34m\u001b[0m\u001b[0m\n",
            "\u001b[0;31mKeyboardInterrupt\u001b[0m: "
          ]
        }
      ]
    },
    {
      "cell_type": "code",
      "metadata": {
        "id": "W2SzAl13dK-R"
      },
      "source": [
        "import os\n",
        "import string\n",
        "import nltk\n",
        "nltk.download('punkt')\n",
        "from nltk import FreqDist\n",
        "import pandas as pd"
      ],
      "execution_count": null,
      "outputs": []
    },
    {
      "cell_type": "code",
      "metadata": {
        "id": "1W9-5ZoadOXI"
      },
      "source": [
        "#read corpus into dataframe\n",
        "df_comments = pd.read_csv(\"./Comments.csv\") "
      ],
      "execution_count": 19,
      "outputs": []
    },
    {
      "cell_type": "code",
      "metadata": {
        "id": "QlCq-tmWdn78"
      },
      "source": [
        "#select only positive comments\n",
        "df_positive = df_comments[df_comments[\"Annotation\"] == \"positive\"]\n",
        "df_positive_comments = df_positive['Comment']\n",
        "\n",
        "#select only negative comments\n",
        "df_negative = df_comments[df_comments[\"Annotation\"] == \"negative\"]\n",
        "df_negative_comments = df_negative['Comment']"
      ],
      "execution_count": 20,
      "outputs": []
    },
    {
      "cell_type": "markdown",
      "metadata": {
        "id": "9jCERBToegJv"
      },
      "source": [
        "# Data Preprocessing"
      ]
    },
    {
      "cell_type": "code",
      "metadata": {
        "id": "3E0TLz6oemi4"
      },
      "source": [
        "def preprocessing(input_str):\n",
        "  output_str=''\n",
        "  punc = \"'\"+\"!\"+\"(\"+\")\"+\"-\"+\"[\"+\"]\"+\"{\"+\"}\"+\";\"+\":\"+\"\\\"\"+\",\"+\"<\"+\"+\"+\">\"+\".\"+\"/\"+\"?\"+\"@\"+\"#\"+\"$\"+\"%\"+\"^\"+\"&\"+\"*\"+\"_\"+\"~\"+\"\\\\\"\n",
        "\n",
        "  #remove punctuations in comment\n",
        "  for char in input_str:\n",
        "    if char not in punc:\n",
        "        output_str = output_str + char\n",
        "\n",
        "  output_str = output_str.strip()\n",
        "\n",
        "  #annotate the begining and the end of the sentence\n",
        "  output_str = \"<\" + output_str + \">\"\n",
        "\n",
        "  #convert the string into lower case and tokenize\n",
        "  word_tokens = nltk.word_tokenize(output_str.lower())\n",
        "  \n",
        "  return word_tokens"
      ],
      "execution_count": 21,
      "outputs": []
    },
    {
      "cell_type": "markdown",
      "metadata": {
        "id": "PSh0HnsGL6F9"
      },
      "source": [
        "# Corpus"
      ]
    },
    {
      "cell_type": "code",
      "metadata": {
        "id": "u25bMsb4vxqc"
      },
      "source": [
        "unigram_list_p=[]\n",
        "bigram_list_p=[]\n",
        "unigram_list_n=[]\n",
        "bigram_list_n=[]\n",
        "\n",
        "#preprocess positive comments\n",
        "for comment in df_positive_comments:\n",
        " positive_tokens = preprocessing(comment)\n",
        " #list the unigrams in the positive corpus\n",
        " unigram_list_p = unigram_list_p + list(positive_tokens)\n",
        " #list the bigrams in the positive corpus\n",
        " bigrams_p = nltk.bigrams(positive_tokens)\n",
        " bigram_list_p = bigram_list_p + list(bigrams_p)\n",
        "\n",
        "#preprocess negative comments\n",
        "for comment in df_negative_comments:\n",
        " negative_tokens = preprocessing(comment)\n",
        " #list the unigrams in the negative corpus\n",
        " unigram_list_n = unigram_list_n + list(negative_tokens)\n",
        " #list the bigrams in the negative corpus\n",
        " bigrams_n = nltk.bigrams(negative_tokens)\n",
        " bigram_list_n = bigram_list_n + list(bigrams_n)"
      ],
      "execution_count": 22,
      "outputs": []
    },
    {
      "cell_type": "code",
      "metadata": {
        "id": "F8MVL9AFJKs6"
      },
      "source": [
        "#unique word count in positive corpus\n",
        "unique_count_p = len(set(unigram_list_p))\n",
        "\n",
        "#unique word count in positive corpus\n",
        "unique_count_n = len(set(unigram_list_n))"
      ],
      "execution_count": 23,
      "outputs": []
    },
    {
      "cell_type": "code",
      "metadata": {
        "id": "faiCyndvFExo"
      },
      "source": [
        "#frequency distribution for positive unigrams and bigrams\n",
        "unigram_freq_p = FreqDist(unigram_list_p)\n",
        "bigram_freq_p = FreqDist(bigram_list_p)\n",
        "\n",
        "#frequency distribution for negative unigrams and bigrams\n",
        "unigram_freq_n = FreqDist(unigram_list_n)\n",
        "bigram_freq_n = FreqDist(bigram_list_n)"
      ],
      "execution_count": 24,
      "outputs": []
    },
    {
      "cell_type": "markdown",
      "metadata": {
        "id": "RG1L0nv5MHFg"
      },
      "source": [
        "# Input Comment"
      ]
    },
    {
      "cell_type": "code",
      "metadata": {
        "colab": {
          "base_uri": "https://localhost:8080/"
        },
        "id": "JEwmYlWD0P5j",
        "outputId": "424deb13-b09f-41de-cab9-d5a8aafccb93"
      },
      "source": [
        "#preprocess input comment\n",
        "input_comment = input()\n",
        "\n",
        "#preprocess the input comment\n",
        "input_tokens=preprocessing(input_comment)\n",
        "input_bigrams = list(nltk.bigrams(input_tokens))\n",
        "\n",
        "#word count in input comment\n",
        "word_count_input = len(input_tokens)"
      ],
      "execution_count": 25,
      "outputs": [
        {
          "output_type": "stream",
          "text": [
            "jaya wewa\n"
          ],
          "name": "stdout"
        }
      ]
    },
    {
      "cell_type": "markdown",
      "metadata": {
        "id": "-emtl1D3MMnU"
      },
      "source": [
        "# Calculate Probability"
      ]
    },
    {
      "cell_type": "code",
      "metadata": {
        "colab": {
          "base_uri": "https://localhost:8080/"
        },
        "id": "DKXLQSOM1K0F",
        "outputId": "e9f9ede6-8da6-4367-d526-766a420fd874"
      },
      "source": [
        "# calculate the probability of being positive\n",
        "\n",
        "probability_p = 1.0\n",
        "\n",
        "for bigram in range(len(input_bigrams)):\n",
        "\n",
        "  if input_bigrams[bigram] in bigram_freq_p:\n",
        "    count_bigram = bigram_freq_p[input_bigrams[bigram]]\n",
        "  else:\n",
        "    count_bigram = 0 \n",
        " \n",
        "  if input_bigrams[bigram][0] in unigram_freq_p:\n",
        "    count_unigram = unigram_freq_p[input_bigrams[bigram][0]]\n",
        "  else:\n",
        "    count_unigram = 0\n",
        "\n",
        "#laplace smoothing\n",
        "  prob_after_smoothing = (count_bigram + 1) / (count_unigram + unique_count_p)\n",
        "\n",
        " #probability of being positive\n",
        "  probability_p = probability_p * (prob_after_smoothing)\n",
        "\n",
        "print('Probability of being POSITIVE : '+str(probability_p))\n"
      ],
      "execution_count": 27,
      "outputs": [
        {
          "output_type": "stream",
          "text": [
            "Probability of being POSITIVE : 1.1801382148373763e-07\n"
          ],
          "name": "stdout"
        }
      ]
    },
    {
      "cell_type": "code",
      "metadata": {
        "id": "lj3i2twIMhoO",
        "colab": {
          "base_uri": "https://localhost:8080/"
        },
        "outputId": "81113edb-97c1-410c-9bbe-14a90a7d9916"
      },
      "source": [
        "# calculate the probability of being negative\n",
        "\n",
        "probability_n = 1.0\n",
        "\n",
        "for bigram in range(len(input_bigrams)):\n",
        "\n",
        "  if input_bigrams[bigram] in bigram_freq_n:\n",
        "    prob_bigram = bigram_freq_n[input_bigrams[bigram]]\n",
        "  else:\n",
        "    prob_bigram = 0 \n",
        " \n",
        "  if input_bigrams[bigram][0] in unigram_freq_n:\n",
        "    prob_unigram = unigram_freq_n[input_bigrams[bigram][0]]\n",
        "  else:\n",
        "    prob_unigram = 0\n",
        "\n",
        " #laplace smoothing\n",
        "  prob_after_smoothing = (prob_bigram + 1) / (prob_unigram + unique_count_n)\n",
        "\n",
        " #probability of being positive\n",
        "  probability_n = probability_n * (prob_after_smoothing)\n",
        "\n",
        "print('Probability of being NEGATIVE : '+str(probability_n))"
      ],
      "execution_count": 28,
      "outputs": [
        {
          "output_type": "stream",
          "text": [
            "Probability of being NEGATIVE : 1.5509195983893698e-08\n"
          ],
          "name": "stdout"
        }
      ]
    },
    {
      "cell_type": "markdown",
      "metadata": {
        "id": "cg6T_CkTb43C"
      },
      "source": [
        "# Classification"
      ]
    },
    {
      "cell_type": "code",
      "metadata": {
        "id": "7WJSvdA8bqQJ",
        "colab": {
          "base_uri": "https://localhost:8080/"
        },
        "outputId": "f26b0ba0-0942-4b55-91cb-fe5bfc18c214"
      },
      "source": [
        "if probability_p > probability_n:\n",
        " print(\"Input is a POSITIVE comment\")\n",
        " perplexity=pow(probability_p, (-1 / word_count_input))\n",
        " print(\"Perplexity : \"+str(perplexity))\n",
        "\n",
        "else:\n",
        " if probability_p < probability_n:\n",
        "  print(\"Input is a NEGATIVE comment\")\n",
        "  perplexity=pow(probability_n, (-1 / word_count_input))\n",
        "  print(\"Perplexity : \"+str(perplexity))\n",
        " else:\n",
        "  print(\"Input comment is NEUTRAL\")"
      ],
      "execution_count": 29,
      "outputs": [
        {
          "output_type": "stream",
          "text": [
            "Input is a POSITIVE comment\n",
            "Perplexity : 53.953147012888586\n"
          ],
          "name": "stdout"
        }
      ]
    }
  ]
}